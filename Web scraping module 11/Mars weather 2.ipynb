{
 "cells": [
  {
   "cell_type": "markdown",
   "id": "1058506a",
   "metadata": {},
   "source": [
    "# Mars Weather\n",
    "Scrape and Analyze Mars Weather Data"
   ]
  },
  {
   "cell_type": "code",
   "execution_count": null,
   "id": "aea14e92",
   "metadata": {},
   "outputs": [],
   "source": [
    "# load dependencies\n",
    "from splinter import Browser\n",
    "from bs4 import BeautifulSoup as soup\n",
    "import matplotlib.pyplot as plt\n",
    "import pandas as pd\n"
   ]
  },
  {
   "cell_type": "markdown",
   "id": "250ade7d",
   "metadata": {},
   "source": [
    "# 1. Visit Site\n",
    "Use automated browsing to visit the Mars Temperature Data Site. Inspect the page to identify which elements to scrape.\n",
    "\n"
   ]
  },
  {
   "cell_type": "code",
   "execution_count": null,
   "id": "068a9fe0",
   "metadata": {},
   "outputs": [],
   "source": [
    "# initiate browser and store url\n",
    "browser = Browser('chrome')\n",
    "url = 'https://static.bc-edx.com/data/web/mars_facts/temperature.html'\n",
    "\n",
    "# visit site\n",
    "browser.visit(url)\n"
   ]
  },
  {
   "cell_type": "markdown",
   "id": "398fd4f0",
   "metadata": {},
   "source": [
    "# 2. Scrape Table\n",
    "Create a BeautifulSoup object and use it to scrape the data in the HTML table.\n",
    "\n",
    "Note that this can also be achieved by using the Pandas read_html function. However, we'll use BeautifulSoup here to continue sharpening our web scraping skills.\n",
    "\n"
   ]
  },
  {
   "cell_type": "code",
   "execution_count": null,
   "id": "1a033c28",
   "metadata": {},
   "outputs": [],
   "source": [
    "# store html content\n",
    "html = browser.html\n",
    "\n",
    "# create BeautifulSoup object\n",
    "html_soup = soup(html, 'html.parser')\n",
    "\n",
    "# extract all rows of data\n",
    "table = html_soup.find('table', class_='table')\n"
   ]
  },
  {
   "cell_type": "code",
   "execution_count": null,
   "id": "b527bac7",
   "metadata": {},
   "outputs": [],
   "source": [
    "# close browser connection\n",
    "browser.quit()\n"
   ]
  },
  {
   "cell_type": "markdown",
   "id": "7264884f",
   "metadata": {},
   "source": [
    "# 3. Store Results\n",
    "Assemble the scraped data into a Pandas DataFrame. The columns should have the same headings as the table on the website:\n",
    "\n",
    "id: the identification number of a single transmission from the Curiosity rover\n",
    "terrestrial_date: the date on Earth\n",
    "sol: the number of elapsed sols (Martian days) since Curiosity landed on Mars\n",
    "ls: the solar longitude\n",
    "month: the Martian month\n",
    "min_temp: the minimum temperature, in Celsius, of a single Martian day (sol)\n",
    "pressure: The atmospheric pressure at Curiosity's location\n"
   ]
  },
  {
   "cell_type": "code",
   "execution_count": null,
   "id": "885566fa",
   "metadata": {},
   "outputs": [],
   "source": [
    "# Create empty header and data_rows lists\n",
    "header = []\n",
    "data_rows = []\n",
    "\n",
    "# Extract the header\n",
    "table_header = table.find('tr')\n",
    "if table_header:\n",
    "    header = [entry.text for entry in table_header.find_all('th')]\n",
    "\n",
    "# Extract the data rows\n",
    "table_rows = table.find_all('tr')[1:]  # Skip the first row (header row)\n",
    "data_rows = [[entry.text for entry in row.find_all('td')] for row in table_rows]\n"
   ]
  },
  {
   "cell_type": "code",
   "execution_count": null,
   "id": "8a3d9744",
   "metadata": {},
   "outputs": [],
   "source": [
    "# create a `pandas` DataFrame by using the list of rows and a list of the column names\n",
    "mars_weather_df = pd.DataFrame(data_rows, columns=header)\n"
   ]
  },
  {
   "cell_type": "code",
   "execution_count": null,
   "id": "4ca41f17",
   "metadata": {},
   "outputs": [],
   "source": [
    "# confirm DataFrame was created successfully\n",
    "mars_weather_df.head()\n"
   ]
  },
  {
   "cell_type": "markdown",
   "id": "21e02c90",
   "metadata": {},
   "source": [
    "# 4. Prepare Data for Analysis\n",
    "Examine the data types that are currently associated with each column. If necessary, cast (or convert) the data to the appropriate datetime, int, or float data types.\n",
    "\n"
   ]
  },
  {
   "cell_type": "code",
   "execution_count": null,
   "id": "f08ff178",
   "metadata": {},
   "outputs": [],
   "source": [
    "# examine data type of each column\n",
    "mars_weather_df.dtypes\n"
   ]
  },
  {
   "cell_type": "code",
   "execution_count": null,
   "id": "0bfdeb0d",
   "metadata": {},
   "outputs": [],
   "source": [
    "# change data types for data analysis\n",
    "mars_weather_df = mars_weather_df.astype({'id':'int',\n",
    "                                          'sol':'int',\n",
    "                                          'ls':'int',\n",
    "                                          'month':'int',\n",
    "                                          'min_temp':'float',\n",
    "                                          'pressure':'float'\n",
    "                                         })\n",
    "\n",
    "mars_weather_df['terrestrial_date'] = pd.to_datetime(mars_weather_df['terrestrial_date'])\n"
   ]
  },
  {
   "cell_type": "code",
   "execution_count": null,
   "id": "561b13d9",
   "metadata": {},
   "outputs": [],
   "source": [
    "# confirm type changes were successful by examining data types again\n",
    "mars_weather_df.dtypes\n"
   ]
  },
  {
   "cell_type": "markdown",
   "id": "93115528",
   "metadata": {},
   "source": [
    "# 5. Analyze the Data\n",
    "Analyze the dataset with pandas:\n",
    "\n",
    "How many months exist on Mars?\n"
   ]
  },
  {
   "cell_type": "code",
   "execution_count": null,
   "id": "cbb5cdfd",
   "metadata": {},
   "outputs": [],
   "source": [
    "# the max month integer should be the number of months on Mars\n",
    "mars_weather_df['month'].max()\n"
   ]
  },
  {
   "cell_type": "code",
   "execution_count": null,
   "id": "8152bf3d",
   "metadata": {},
   "outputs": [],
   "source": [
    "# count the length of an array of unique `sol` values\n",
    "len(mars_weather_df['sol'].unique())\n"
   ]
  },
  {
   "cell_type": "code",
   "execution_count": null,
   "id": "c6da9093",
   "metadata": {},
   "outputs": [],
   "source": [
    "# group by month and calculate average `min_temp` within each group\n",
    "avg_min_temp_by_month = mars_weather_df.groupby(['month'])['min_temp'].mean()\n",
    "avg_min_temp_by_month\n"
   ]
  },
  {
   "cell_type": "code",
   "execution_count": null,
   "id": "4599fac9",
   "metadata": {},
   "outputs": [],
   "source": [
    "# plot the average temperature by month\n",
    "avg_min_temp_by_month.plot.bar()\n",
    "plt.ylabel('Temperature in Celsius')\n",
    "plt.show()\n"
   ]
  },
  {
   "cell_type": "code",
   "execution_count": null,
   "id": "5a016d66",
   "metadata": {},
   "outputs": [],
   "source": [
    "# identify the coldest and hottest months in Curiosity's location\n",
    "avg_min_temp_by_month.sort_values().plot.bar()\n",
    "plt.ylabel('Temperature in Celsius')\n",
    "plt.show()\n"
   ]
  },
  {
   "cell_type": "markdown",
   "id": "dcf7de5b",
   "metadata": {},
   "source": [
    "# Which months have the lowest and the highest atmospheric pressure on Mars? To answer this question:\n",
    "Find the average the daily atmospheric pressure of all the months.\n",
    "Plot the results as a bar chart.\n"
   ]
  },
  {
   "cell_type": "code",
   "execution_count": null,
   "id": "f91c10b9",
   "metadata": {},
   "outputs": [],
   "source": [
    "# group by month and calculate average pressure\n",
    "avg_pressure_by_month = mars_weather_df.groupby(['month'])['pressure'].mean()\n",
    "avg_pressure_by_month\n"
   ]
  },
  {
   "cell_type": "code",
   "execution_count": null,
   "id": "0627b930",
   "metadata": {},
   "outputs": [],
   "source": [
    "# plot the average pressure by month\n",
    "avg_pressure_by_month.sort_values().plot.bar()\n",
    "plt.ylabel('Atmospheric Pressure')\n",
    "plt.show()\n"
   ]
  },
  {
   "cell_type": "markdown",
   "id": "fe729bde",
   "metadata": {},
   "source": [
    "# About how many terrestrial (Earth) days exist in a Martian year? To answer this question:\n",
    "Consider how many days elapse on Earth in the time that Mars circles the Sun once.\n",
    "Visually estimate the result by plotting the daily minimum temperature.\n"
   ]
  },
  {
   "cell_type": "code",
   "execution_count": null,
   "id": "2cbf215b",
   "metadata": {},
   "outputs": [],
   "source": [
    "# how many terrestrial days are there in a Martian year?\n",
    "mars_weather_df.plot(y='min_temp', use_index=True, legend=False)\n",
    "plt.xlabel('Number of terrestrial days')\n",
    "plt.ylabel('Minimum temperature')\n",
    "plt.show()\n"
   ]
  },
  {
   "cell_type": "markdown",
   "id": "3859df70",
   "metadata": {},
   "source": [
    "# 6. Save the Data\n",
    "Export the DataFrame to a CSV file.\n",
    "\n"
   ]
  },
  {
   "cell_type": "code",
   "execution_count": null,
   "id": "67cd8c4b",
   "metadata": {},
   "outputs": [],
   "source": [
    "# write data to csv\n",
    "mars_weather_df.to_csv('output/mars_weather.csv')"
   ]
  }
 ],
 "metadata": {
  "kernelspec": {
   "display_name": "Python 3 (ipykernel)",
   "language": "python",
   "name": "python3"
  },
  "language_info": {
   "codemirror_mode": {
    "name": "ipython",
    "version": 3
   },
   "file_extension": ".py",
   "mimetype": "text/x-python",
   "name": "python",
   "nbconvert_exporter": "python",
   "pygments_lexer": "ipython3",
   "version": "3.9.13"
  }
 },
 "nbformat": 4,
 "nbformat_minor": 5
}
